{
  "nbformat": 4,
  "nbformat_minor": 0,
  "metadata": {
    "colab": {
      "name": "Image-Recognition-and-Ocr",
      "private_outputs": true,
      "provenance": [],
      "collapsed_sections": [],
      "include_colab_link": true
    },
    "kernelspec": {
      "name": "python3",
      "display_name": "Python 3"
    },
    "language_info": {
      "name": "python"
    },
    "accelerator": "GPU"
  },
  "cells": [
    {
      "cell_type": "markdown",
      "metadata": {
        "id": "view-in-github",
        "colab_type": "text"
      },
      "source": [
        "<a href=\"https://colab.research.google.com/github/leejooan/Image-Recognition-and-Ocr/blob/master/Image_Recognition_and_Ocr.ipynb\" target=\"_parent\"><img src=\"https://colab.research.google.com/assets/colab-badge.svg\" alt=\"Open In Colab\"/></a>"
      ]
    },
    {
      "cell_type": "markdown",
      "metadata": {
        "id": "4NTE6G0249Jj"
      },
      "source": [
        "바이오메디컬인공지능 프로젝트"
      ]
    },
    {
      "cell_type": "code",
      "metadata": {
        "id": "GS6ZPK0iBjvG"
      },
      "source": [
        "from google.colab import drive\n",
        "drive.mount('/content/drive')"
      ],
      "execution_count": null,
      "outputs": []
    },
    {
      "cell_type": "code",
      "metadata": {
        "id": "jyHWYMV_W_3H"
      },
      "source": [
        "!pip install tensorflow\n",
        "!pip install webcolors\n",
        "!pip install pytesseract\n",
        "!pip install opencv-python\n",
        "!sudo apt install tesseract-ocr\n",
        "!sudo apt install tesseract-ocr-kor\n",
        "!pip install webcolors"
      ],
      "execution_count": null,
      "outputs": []
    },
    {
      "cell_type": "code",
      "metadata": {
        "id": "9pndtUAD05mH"
      },
      "source": [
        "import re\n",
        "import pytesseract\n",
        "from PIL import Image\n",
        "from google.colab.patches import cv2_imshow\n",
        "import webcolors\n",
        "from tensorflow.python.keras.models import load_model\n",
        "import tensorflow.keras as keras\n",
        "import tensorflow as tf\n",
        "from tensorflow.keras.preprocessing.image import ImageDataGenerator\n",
        "import seaborn as sns\n",
        "import cv2\n",
        "from keras.preprocessing import image\n",
        "from keras.applications.vgg16 import preprocess_input\n",
        "import os\n",
        "from keras.applications.vgg16 import VGG16\n",
        "vgg16 = keras.applications.vgg16\n",
        "config = tf.compat.v1.ConfigProto()\n",
        "config.gpu_options.allow_growth = True\n",
        "tf.compat.v1.keras.backend.set_session(tf.compat.v1.Session(config=config))\n",
        "import numpy as np\n",
        "import pandas as pd\n",
        "import matplotlib.pyplot as plt\n",
        "sns.set_style('whitegrid')\n",
        "import warnings\n",
        "warnings.filterwarnings('ignore')\n",
        "import matplotlib.image as img\n",
        "from scipy.cluster.vq import whiten\n",
        "%matplotlib inline\n",
        "from scipy.cluster.vq import kmeans,vq"
      ],
      "execution_count": null,
      "outputs": []
    },
    {
      "cell_type": "markdown",
      "metadata": {
        "id": "qLqJhK1X1MfF"
      },
      "source": [
        "Data load"
      ]
    },
    {
      "cell_type": "code",
      "metadata": {
        "id": "Q3g12gWcMIiZ"
      },
      "source": [
        "image_path=\"/content/drive/MyDrive/img_00000004.jpg\""
      ],
      "execution_count": null,
      "outputs": []
    },
    {
      "cell_type": "markdown",
      "metadata": {
        "id": "W2MEmGPh1Vh5"
      },
      "source": [
        "옷 카테고리 분류 및 색 분류, 가격 출력"
      ]
    },
    {
      "cell_type": "code",
      "metadata": {
        "id": "QWpEpopLD953"
      },
      "source": [
        "image = cv2.imread(image_path)\n",
        "gray = cv2.cvtColor(image, cv2.COLOR_BGR2GRAY)\n",
        "filename = \"{}.jpg\".format(os.getpid())  \n",
        "cv2.imwrite(filename, gray)\n",
        "text = pytesseract.image_to_string(Image.open(filename), lang = 'eng+kor' )\n",
        "os.remove(filename)\n",
        "\n",
        "price = text.split('\\n')\n",
        "\n",
        "price = text.split('\\n')\n",
        "\n",
        "price_list = []\n",
        "for word in price:\n",
        "    if word.startswith(\"W\") or  word.startswith(\"₩\") or word.startswith(\"PRICE\") or  word.startswith(\"price\") or  word.startswith(\"가격\") or  word.startswith(\"판매가\") or word.startswith(\"가\"):\n",
        "        price_list.append(word)\n",
        "\n",
        "Price = \"\"\n",
        "\n",
        "for P in price_list:\n",
        "  S = re.findall(\"\\d+\",P) \n",
        "  Price = \"\".join(S) \n",
        "\n",
        "path=\"/content/drive/MyDrive/mnist_mlp_model.h5\"\n",
        "model = load_model(path)\n",
        "from keras.preprocessing import image\n",
        "image = image.load_img(image_path)\n",
        "im = image.resize((224, 224))\n",
        "\n",
        "prediction_scores = model.predict(np.expand_dims(im, axis=0))\n",
        "predicted_index = np.argmax(prediction_scores)\n",
        "\n",
        "if predicted_index ==0:\n",
        "       label=\"Blazer\"\n",
        "elif predicted_index ==1:\n",
        "       label=\"Blouse\"\n",
        "elif predicted_index ==2:\n",
        "     label=\"Cardigan\"\n",
        "elif predicted_index ==3:\n",
        "     label=\"Dress\"\n",
        "elif predicted_index ==4:\n",
        "     label=\"Jacket\"\n",
        "elif predicted_index ==5:\n",
        "     label=\"Jeans\"\n",
        "elif predicted_index ==6:\n",
        "    label=\"Shorts\"\n",
        "elif predicted_index ==7:\n",
        "    label=\"Skirt\"\n",
        "elif predicted_index ==8:\n",
        "    label=\"Sweater\"\n",
        "elif predicted_index ==9:\n",
        "    label=\"Tee\"\n",
        "else:\n",
        "    print(\"Predicted label: 옷이 아닙니다.\")\n",
        "\n",
        "img2 = cv2.imread(image_path)\n",
        "mask = np.zeros(img2.shape[:2],np.uint8)\n",
        "\n",
        "image = img.imread(image_path)\n",
        "\n",
        "bgdModel = np.zeros((1,65),np.float64)\n",
        "fgdModel = np.zeros((1,65),np.float64)\n",
        "\n",
        "rect = (50,50,450,290)\n",
        "cv2.grabCut(img2,mask,rect,bgdModel,fgdModel,1,cv2.GC_INIT_WITH_RECT)\n",
        "\n",
        "newmask = cv2.imread('./data/newmask2.png',0)\n",
        "mask[newmask == 0] = 0\n",
        "mask[newmask == 255] = 1\n",
        "cv2.grabCut(img2,mask,None,bgdModel,fgdModel,1,cv2.GC_INIT_WITH_MASK)\n",
        "mask2 = np.where((mask==2)|(mask==0),0,1).astype('uint8')\n",
        "img2 = img2*mask2[:,:,np.newaxis]\n",
        "\n",
        "# 이미지에서 평균 rgb값 구하기\n",
        "Red = []\n",
        "Green = []\n",
        "Blue = []\n",
        "\n",
        "for x in image:\n",
        "    for y in x:\n",
        "        Red.append(y[0])\n",
        "        Green.append(y[1])\n",
        "        Blue.append(y[2])\n",
        "\n",
        "R_avg = sum(Red) / len(Red)\n",
        "G_avg = sum(Green) / len(Green)\n",
        "B_avg = sum(Blue) / len(Blue)\n",
        "\n",
        "# print(\"Avg Value:\",R_avg,G_avg,B_avg)\n",
        "\n",
        "# Euclidean distance로 가장 근접한 색 찾기\n",
        "def closest_colour(requested_colour):\n",
        "    min_colours = {}\n",
        "    for key, name in webcolors.CSS3_HEX_TO_NAMES.items():\n",
        "        r_c, g_c, b_c = webcolors.hex_to_rgb(key)\n",
        "        rd = (r_c - requested_colour[0]) ** 2\n",
        "        gd = (g_c - requested_colour[1]) ** 2\n",
        "        bd = (b_c - requested_colour[2]) ** 2\n",
        "        min_colours[(rd + gd + bd)] = name\n",
        "    return min_colours[min(min_colours.keys())]\n",
        "\n",
        "def get_colour_name(requested_colour):\n",
        "    try:\n",
        "        closest_name = actual_name = webcolors.rgb_to_name(requested_colour)\n",
        "    except ValueError:\n",
        "        closest_name = closest_colour(requested_colour)\n",
        "        actual_name = None\n",
        "    return actual_name, closest_name\n",
        "\n",
        "requested_colour = (R_avg, G_avg, B_avg)\n",
        "actual_name, closest_name = get_colour_name(requested_colour)\n",
        "\n",
        "plt.imshow(im)\n",
        "text = text.strip()\n",
        "if str.isdigit(Price) == True:\n",
        "   print(\"이 상품의 가격은\",Price + \"원입니다.\")\n",
        "    \n",
        "else:\n",
        "    print(closest_name, label)\n"
      ],
      "execution_count": null,
      "outputs": []
    },
    {
      "cell_type": "code",
      "metadata": {
        "id": "QeN0ohvBN2wj"
      },
      "source": [
        "image = cv2.imread(image_path)\n",
        "gray = cv2.cvtColor(image, cv2.COLOR_BGR2GRAY)\n",
        "filename = \"{}.jpg\".format(os.getpid())  \n",
        "cv2.imwrite(filename, gray)\n",
        "text = pytesseract.image_to_string(Image.open(filename), lang = 'eng+kor' )\n",
        "os.remove(filename)\n",
        "\n",
        "price = text.split('\\n')\n",
        "\n",
        "price_list = []\n",
        "for word in price:\n",
        "    if word.startswith(\"W\") or  word.startswith(\"₩\") or word.startswith(\"PRICE\") or  word.startswith(\"price\") or  word.startswith(\"가격\") or  word.startswith(\"판매가\") or word.startswith(\"가\"):\n",
        "        price_list.append(word)\n",
        "\n",
        "Price = \"\"\n",
        "\n",
        "for P in price_list:\n",
        "  S = re.findall(\"\\d+\",P) \n",
        "  Price = \"\".join(S) \n",
        "  print(\"이 상품의 가격은\",Price + \"원입니다.\")"
      ],
      "execution_count": null,
      "outputs": []
    },
    {
      "cell_type": "code",
      "metadata": {
        "id": "uVvi_wADN-od"
      },
      "source": [
        "if Price == None:\n",
        "    print(\"Predicted label: \",predicted_index)"
      ],
      "execution_count": null,
      "outputs": []
    },
    {
      "cell_type": "code",
      "metadata": {
        "id": "FZPe0Dr6MeFz"
      },
      "source": [
        "print(\"Predicted label: \",predicted_index)"
      ],
      "execution_count": null,
      "outputs": []
    },
    {
      "cell_type": "code",
      "metadata": {
        "id": "PKe3G2i34aPw"
      },
      "source": [
        "# reference\n",
        "# (OCR가격표인식)https://bhadreshpsavani.medium.com/how-to-use-tesseract-library-for-ocr-in-google-colab-notebook-5da5470e4fe0"
      ],
      "execution_count": null,
      "outputs": []
    }
  ]
}